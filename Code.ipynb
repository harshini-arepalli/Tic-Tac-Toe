def print_board(board):
    """Prints the Tic Tac Toe board."""
    for row in board:
        print(" | ".join(row))
        print("-" * 9)

def check_winner(board):
    """Checks for a winner or a tie."""
    for i in range(3):
        # Check rows and columns for a win
        if board[i][0] == board[i][1] == board[i][2] != " " or \
           board[0][i] == board[1][i] == board[2][i] != " ":
            return board[i][i]
    
    # Check diagonals for a win
    if board[0][0] == board[1][1] == board[2][2] != " " or \
       board[0][2] == board[1][1] == board[2][0] != " ":
        return board[1][1]
    
    # Check for a tie
    for row in board:
        if " " in row:
            return None
    return "Tie"

def tic_tac_toe():
    """Main function to play Tic Tac Toe."""
    board = [[" " for _ in range(3)] for _ in range(3)]
    player = "X"
    
    while True:
        print_board(board)
        
        try:
            row = int(input(f"Player {player}, enter row (1-3): "))
            col = int(input("Now enter column (1-3): ")) - 1
            
            if row < 1 or row > 3 or col < 0 or col > 2:
                print("Invalid move. Row and column numbers should be between 1 and 3.")
                continue
            
            row -= 1  # Adjusting for zero-based indexing
            
            if board[row][col] == " ":
                board[row][col] = player
            else:
                print("Invalid move. Try again.")
                continue
            
            winner = check_winner(board)
            if winner:
                print_board(board)
                if winner == "Tie":
                    print("It's a tie!")
                else:
                    print(f"Player {winner} wins!")
                break
            
            player = "O" if player == "X" else "X"
        
        except ValueError:
            print("Invalid input. Please enter a number.")
            continue

if __name__ == "__main__":
    tic_tac_toe()
